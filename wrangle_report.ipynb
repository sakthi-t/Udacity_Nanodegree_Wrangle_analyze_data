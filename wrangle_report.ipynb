{
 "cells": [
  {
   "cell_type": "markdown",
   "metadata": {},
   "source": [
    "## Reporting: wragle_report\n",
    "* Create a **300-600 word written report** called \"wrangle_report.pdf\" or \"wrangle_report.html\" that briefly describes your wrangling efforts. This is to be framed as an internal document."
   ]
  },
  {
   "cell_type": "markdown",
   "metadata": {},
   "source": [
    "## Import Necessary Libraries\n",
    "\n",
    "I import the necessary libraries\n",
    "\n",
    "The libraries that I have imported are\n",
    "\n",
    "numpy, pandas, os, requests, json, datetime, matplotlib"
   ]
  },
  {
   "cell_type": "markdown",
   "metadata": {},
   "source": [
    "## Steps in Wrangling\n",
    "\n",
    "- Gather, define\n",
    "- Code \n",
    "- Test"
   ]
  },
  {
   "cell_type": "markdown",
   "metadata": {},
   "source": [
    "## Gathering the Data\n",
    "\n",
    "- I download the 'twitter-archive-enhanced.csv' and upload it into workspace. I store it in a dataframe twitter_enhanced\n",
    "\n",
    "- I explore the twitter_enhanced dataframe\n",
    "\n",
    "- I extract the 'image-predictions.tsv' using requests.get. I check the response and it is 200. I store the tsv file in df_image_predictions. It is successful. After that I explore the dataframe.\n",
    "\n",
    "- I read the 'tweet-json.txt' and store it into tweet_json dataframe.\n",
    "\n",
    "- I have used head(), sample(), nunique(), value_counts(), info(), query() commands to explore the data"
   ]
  },
  {
   "cell_type": "markdown",
   "metadata": {},
   "source": [
    "## Accessing the Data\n",
    "\n",
    "- I figure out 8 quality issues and 2 tidy issues\n",
    "- For every issue I sort out the actual issue using relevant code\n",
    "- Finally I test the issue"
   ]
  },
  {
   "cell_type": "markdown",
   "metadata": {},
   "source": [
    "## Making copies of the Dataframe\n",
    "\n",
    "- I make copies of the dataframe so that the original dataframe is not touched\n",
    "- I make copies of dataframe twice\n",
    "- I work with the first copies of dataframes during the code stage\n",
    "- I work with the second copies of dataframe during the store stage"
   ]
  },
  {
   "cell_type": "markdown",
   "metadata": {},
   "source": [
    "## Stored Dataframe\n",
    "\n",
    "- Finally I make a dataframe named 'twitter_archive_master'\n",
    "- This is the final dataframe with fields tweet_id (converted to object), timestamp (date-time object), text, expanded_urls, rating_numerator, rating_denominator, dog_stages, rating, jpg_url, p1, p2, p3, retweet_Status, retweets, favourites\n",
    "- I have ensured that retweet_status is false\n",
    "- I have ensured that p1_dog, p2_dog, p3_dog are dogs only\n",
    "- Since I have ensured that retweet_status is false, and p1_dog, p2_dog, p3_dog are only dogs, the number of rows in the final dataframe is lesser than the original dataframe"
   ]
  },
  {
   "cell_type": "markdown",
   "metadata": {},
   "source": [
    "## Data Analysis & Visualization\n",
    "\n",
    "- I built insights which are basically statements\n",
    "- I made 3 visualizations\n",
    "- Histogram of p1_dog breeds\n",
    "- I have made the as readable as possible by rotating the x_ticks, increasing font size, increasing the figure size\n",
    "- I then made a scatter plot of retweets and favourites\n",
    "- Finally I made a scatter plot of retweets and ratings"
   ]
  }
 ],
 "metadata": {
  "kernelspec": {
   "display_name": "Python 3",
   "language": "python",
   "name": "python3"
  },
  "language_info": {
   "codemirror_mode": {
    "name": "ipython",
    "version": 3
   },
   "file_extension": ".py",
   "mimetype": "text/x-python",
   "name": "python",
   "nbconvert_exporter": "python",
   "pygments_lexer": "ipython3",
   "version": "3.6.3"
  }
 },
 "nbformat": 4,
 "nbformat_minor": 2
}
